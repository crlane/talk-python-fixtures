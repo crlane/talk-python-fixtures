{
 "cells": [
  {
   "cell_type": "markdown",
   "metadata": {
    "slideshow": {
     "slide_type": "slide"
    }
   },
   "source": [
    "# Pytest Fixtures\n"
   ]
  },
  {
   "cell_type": "markdown",
   "metadata": {
    "slideshow": {
     "slide_type": "fragment"
    }
   },
   "source": [
    "@crlane\n",
    "Tea Time 2016-09-29"
   ]
  },
  {
   "cell_type": "markdown",
   "metadata": {
    "slideshow": {
     "slide_type": "slide"
    }
   },
   "source": [
    "## What is Pytest?"
   ]
  },
  {
   "cell_type": "markdown",
   "metadata": {
    "slideshow": {
     "slide_type": "subslide"
    }
   },
   "source": [
    "### Test runner"
   ]
  },
  {
   "cell_type": "markdown",
   "metadata": {
    "slideshow": {
     "slide_type": "fragment"
    }
   },
   "source": [
    "- discovery and collection"
   ]
  },
  {
   "cell_type": "markdown",
   "metadata": {
    "slideshow": {
     "slide_type": "fragment"
    }
   },
   "source": [
    "- execution"
   ]
  },
  {
   "cell_type": "markdown",
   "metadata": {
    "slideshow": {
     "slide_type": "fragment"
    }
   },
   "source": [
    "- reporting"
   ]
  },
  {
   "cell_type": "code",
   "execution_count": 7,
   "metadata": {
    "collapsed": false,
    "slideshow": {
     "slide_type": "fragment"
    }
   },
   "outputs": [
    {
     "name": "stdout",
     "output_type": "stream",
     "text": [
      "\u001b[1m============================= test session starts ==============================\u001b[0m\n",
      "platform linux -- Python 3.5.2, pytest-3.0.2, py-1.4.31, pluggy-0.3.1 -- /opt/conda/bin/python\n",
      "cachedir: .cache\n",
      "rootdir: /home/jovyan/work, inifile: \n",
      "collected 12 items \n",
      "\u001b[0m<Module 'test_file.py'>\n",
      "  <Function 'test_is_req_satisfied[1.10.0-1.10.0-True]'>\n",
      "  <Function 'test_is_req_satisfied[1.10.0-1.10.1-True]'>\n",
      "  <Function 'test_is_req_satisfied[1.10.0-1.12.0-True]'>\n",
      "  <Function 'test_is_req_satisfied[1.10.0-2.0.0-True]'>\n",
      "  <Function 'test_is_req_satisfied[1.10.0-1.9.9-False]'>\n",
      "  <Function 'test_is_req_satisfied[1.10.0-0.9.9-False]'>\n",
      "  <Function 'test_is_req_satisfied[1.10.1-1.10.0-False]'>\n",
      "\n",
      "\u001b[1m============================== 5 tests deselected ==============================\u001b[0m\n",
      "\u001b[33m\u001b[1m========================= 5 deselected in 0.09 seconds =========================\u001b[0m\n"
     ]
    }
   ],
   "source": [
    "!py.test -v . -k test_is_req_satisfied --collect-only"
   ]
  },
  {
   "cell_type": "markdown",
   "metadata": {
    "slideshow": {
     "slide_type": "subslide"
    }
   },
   "source": [
    "- offers great flexibility"
   ]
  },
  {
   "cell_type": "markdown",
   "metadata": {
    "slideshow": {
     "slide_type": "fragment"
    }
   },
   "source": [
    "- unittest, nosetests, doctests"
   ]
  },
  {
   "cell_type": "markdown",
   "metadata": {
    "slideshow": {
     "slide_type": "fragment"
    }
   },
   "source": [
    "- extensible (hi pluggy!)"
   ]
  },
  {
   "cell_type": "markdown",
   "metadata": {
    "slideshow": {
     "slide_type": "subslide"
    }
   },
   "source": [
    "### Framework for authoring tests\n",
    "  "
   ]
  },
  {
   "cell_type": "markdown",
   "metadata": {
    "slideshow": {
     "slide_type": "fragment"
    }
   },
   "source": [
    "- small tests, functional style"
   ]
  },
  {
   "cell_type": "markdown",
   "metadata": {
    "slideshow": {
     "slide_type": "fragment"
    }
   },
   "source": [
    "- more tests with less code to maintain\n",
    "  "
   ]
  },
  {
   "cell_type": "markdown",
   "metadata": {
    "slideshow": {
     "slide_type": "fragment"
    }
   },
   "source": [
    "- bare asserts "
   ]
  },
  {
   "cell_type": "markdown",
   "metadata": {
    "slideshow": {
     "slide_type": "fragment"
    }
   },
   "source": [
    "- better failure context"
   ]
  },
  {
   "cell_type": "code",
   "execution_count": 2,
   "metadata": {
    "collapsed": false,
    "slideshow": {
     "slide_type": "subslide"
    }
   },
   "outputs": [],
   "source": [
    "import pytest\n",
    "@pytest.mark.parametrize(('minimum_ver', 'current', 'desired_bool'), [\n",
    "    (\"1.10.0\", \"1.10.0\", True),\n",
    "    (\"1.10.0\", \"1.10.1\", True),\n",
    "    (\"1.10.0\", \"1.12.0\", True),\n",
    "    (\"1.10.0\", \"2.0.0\", True),\n",
    "    (\"1.10.0\", \"1.9.9\", False),\n",
    "    (\"1.10.0\", \"0.9.9\", False),\n",
    "    (\"1.10.1\", \"1.10.0\", False)\n",
    "])\n",
    "def test_is_req_satisfied(minimum_ver, current, desired_bool):\n",
    "        assert desired_bool == is_req_satisfied(minimum_ver, current)"
   ]
  },
  {
   "cell_type": "markdown",
   "metadata": {
    "slideshow": {
     "slide_type": "subslide"
    }
   },
   "source": [
    "![failure](resources/failure_context.png)"
   ]
  },
  {
   "cell_type": "markdown",
   "metadata": {
    "slideshow": {
     "slide_type": "subslide"
    }
   },
   "source": [
    "### Framework for creating _fixtures_"
   ]
  },
  {
   "cell_type": "markdown",
   "metadata": {
    "slideshow": {
     "slide_type": "fragment"
    }
   },
   "source": [
    "- an item needed to create, model, or manage state during testing"
   ]
  },
  {
   "cell_type": "markdown",
   "metadata": {
    "slideshow": {
     "slide_type": "fragment"
    }
   },
   "source": [
    "- composable (build fixtures from fixtures)"
   ]
  },
  {
   "cell_type": "markdown",
   "metadata": {
    "slideshow": {
     "slide_type": "fragment"
    }
   },
   "source": [
    "- parametrizable (many cases, less code, easier to maintain)"
   ]
  },
  {
   "cell_type": "markdown",
   "metadata": {
    "slideshow": {
     "slide_type": "fragment"
    }
   },
   "source": [
    "- resolved at runtime (PATH is test file, conftest.py)"
   ]
  },
  {
   "cell_type": "markdown",
   "metadata": {
    "slideshow": {
     "slide_type": "fragment"
    }
   },
   "source": [
    "- can feel like (too much) magic, but once you grok it..."
   ]
  },
  {
   "cell_type": "markdown",
   "metadata": {
    "slideshow": {
     "slide_type": "slide"
    }
   },
   "source": [
    "## Writing Your Own Fixtures"
   ]
  },
  {
   "cell_type": "markdown",
   "metadata": {
    "slideshow": {
     "slide_type": "fragment"
    }
   },
   "source": [
    "- Before you write, check the docs\n",
    "  - `tmpdir` and `tmpdir_factory`\n",
    "  - `monkeypatch` (replacement for `mock.patch`)\n",
    "  - `capsys` and `capfd` (grab output or logging)"
   ]
  },
  {
   "cell_type": "code",
   "execution_count": 2,
   "metadata": {
    "collapsed": true,
    "slideshow": {
     "slide_type": "subslide"
    }
   },
   "outputs": [],
   "source": [
    "@pytest.fixture\n",
    "def my_fixture(tmpdir):\n",
    "    p = tmpdir.mkdir('foo').join('bar.txt')\n",
    "    p.write('Fixtures improve tests')\n",
    "    return p.strpath"
   ]
  },
  {
   "cell_type": "code",
   "execution_count": 9,
   "metadata": {
    "collapsed": true,
    "slideshow": {
     "slide_type": "fragment"
    }
   },
   "outputs": [],
   "source": [
    "def test_simple_fixture(my_fixture):\n",
    "    with open(my_fixture) as f:\n",
    "        assert simple_read(f) == 'Fixtures improve tests'"
   ]
  },
  {
   "cell_type": "code",
   "execution_count": 9,
   "metadata": {
    "collapsed": false,
    "slideshow": {
     "slide_type": "subslide"
    }
   },
   "outputs": [
    {
     "name": "stdout",
     "output_type": "stream",
     "text": [
      "\u001b[1m============================= test session starts ==============================\u001b[0m\n",
      "platform linux -- Python 3.5.2, pytest-3.0.2, py-1.4.31, pluggy-0.3.1 -- /opt/conda/bin/python\n",
      "cachedir: .cache\n",
      "rootdir: /home/jovyan/work, inifile: \n",
      "collected 8 items \n",
      "\u001b[0m\n",
      "test_file.py::test_simple_fixture \u001b[32mPASSED\u001b[0m\n",
      "\n",
      "\u001b[1m============================== 7 tests deselected ==============================\u001b[0m\n",
      "\u001b[1m\u001b[32m==================== 1 passed, 7 deselected in 0.10 seconds ====================\u001b[0m\n"
     ]
    }
   ],
   "source": [
    "!py.test -v . -k test_simple_fixture"
   ]
  },
  {
   "cell_type": "markdown",
   "metadata": {
    "slideshow": {
     "slide_type": "slide"
    }
   },
   "source": [
    "## Parametrizing Fixtures"
   ]
  },
  {
   "cell_type": "code",
   "execution_count": 3,
   "metadata": {
    "collapsed": false,
    "slideshow": {
     "slide_type": "subslide"
    }
   },
   "outputs": [],
   "source": [
    "import json\n",
    "import yaml\n",
    "import pytest\n",
    "import os\n",
    "\n",
    "APPROVED_EXTS = [\".txt\", \".json\", \".yaml\"]\n",
    "\n",
    "\n",
    "@pytest.fixture(params=APPROVED_EXTS + [\".unknown\"])\n",
    "def param_file(request, tmpdir):\n",
    "    file_type = request.param\n",
    "    message = 'Fixtures improve tests'\n",
    "    p = tmpdir.mkdir('foo').join('bar{}'.format(file_type))\n",
    "    if file_type == '.txt':\n",
    "        p.write(message)\n",
    "    elif file_type == '.json':\n",
    "        p.write(json.dumps({'message': message}))\n",
    "    elif file_type == '.yaml':\n",
    "        p.write(yaml.dump({'mEssage': message}))\n",
    "    else:\n",
    "        p.write('Unknown file type')\n",
    "    return p.strpath"
   ]
  },
  {
   "cell_type": "code",
   "execution_count": 6,
   "metadata": {
    "collapsed": true,
    "slideshow": {
     "slide_type": "subslide"
    }
   },
   "outputs": [],
   "source": [
    "def test_param_fixture(param_file):\n",
    "    if os.path.splitext(param_file)[-1] not in APPROVED_EXTS:\n",
    "        with pytest.raises(TypeError):\n",
    "            param_read(param_file)\n",
    "    else:\n",
    "        assert param_read(param_file) == 'Fixtures improve tests'"
   ]
  },
  {
   "cell_type": "code",
   "execution_count": 5,
   "metadata": {
    "collapsed": false,
    "slideshow": {
     "slide_type": "subslide"
    }
   },
   "outputs": [
    {
     "name": "stdout",
     "output_type": "stream",
     "text": [
      "\u001b[1m============================= test session starts ==============================\u001b[0m\n",
      "platform linux -- Python 3.5.2, pytest-3.0.2, py-1.4.31, pluggy-0.3.1 -- /opt/conda/bin/python\n",
      "cachedir: .cache\n",
      "rootdir: /home/jovyan/work, inifile: \n",
      "collected 12 items \n",
      "\u001b[0m\n",
      "test_file.py::test_param_fixture[.txt] \u001b[32mPASSED\u001b[0m\n",
      "test_file.py::test_param_fixture[.json] \u001b[32mPASSED\u001b[0m\n",
      "test_file.py::test_param_fixture[.yaml] \u001b[32mPASSED\u001b[0m\n",
      "test_file.py::test_param_fixture[.unknown] \u001b[32mPASSED\u001b[0m\n",
      "\n",
      "\u001b[1m============================== 8 tests deselected ==============================\u001b[0m\n",
      "\u001b[1m\u001b[32m==================== 4 passed, 8 deselected in 0.12 seconds ====================\u001b[0m\n"
     ]
    }
   ],
   "source": [
    "!pytest -v . -k test_param_fixture"
   ]
  },
  {
   "cell_type": "markdown",
   "metadata": {
    "slideshow": {
     "slide_type": "slide"
    }
   },
   "source": [
    "### Finalizer Callbacks"
   ]
  },
  {
   "cell_type": "markdown",
   "metadata": {
    "slideshow": {
     "slide_type": "fragment"
    }
   },
   "source": [
    "- reuse fixtures without side effects"
   ]
  },
  {
   "cell_type": "code",
   "execution_count": 12,
   "metadata": {
    "collapsed": false,
    "slideshow": {
     "slide_type": "fragment"
    }
   },
   "outputs": [],
   "source": [
    "@pytest.fixture(params=['api_v1', 'api_v2'])\n",
    "def finalizer_fixture(request):\n",
    "    \n",
    "    def _cleanup_something():\n",
    "        print(\"I'm in your fixture cleaning up\")\n",
    "        \n",
    "    request.addfinalizer(_cleanup_something)    \n",
    "    "
   ]
  },
  {
   "cell_type": "code",
   "execution_count": 15,
   "metadata": {
    "collapsed": false,
    "slideshow": {
     "slide_type": "subslide"
    }
   },
   "outputs": [
    {
     "name": "stdout",
     "output_type": "stream",
     "text": [
      "\u001b[1m============================= test session starts ==============================\u001b[0m\n",
      "platform linux -- Python 3.5.2, pytest-3.0.2, py-1.4.31, pluggy-0.3.1 -- /opt/conda/bin/python\n",
      "cachedir: .cache\n",
      "rootdir: /home/jovyan/work, inifile: \n",
      "collected 14 items \n",
      "\u001b[0m\n",
      "test_file.py::test_show_finalizer[api_v1] \u001b[32mPASSED\u001b[0m\n",
      "test_file.py::test_show_finalizer[api_v1] \u001b[31mERROR\u001b[0m\n",
      "test_file.py::test_show_finalizer[api_v2] \u001b[32mPASSED\u001b[0m\n",
      "test_file.py::test_show_finalizer[api_v2] \u001b[31mERROR\u001b[0m\n",
      "\n",
      "==================================== ERRORS ====================================\n",
      "_______________ ERROR at teardown of test_show_finalizer[api_v1] _______________\n",
      "\n",
      "\u001b[1m    def _cleanup_something():\u001b[0m\n",
      "\u001b[1m>       raise ZeroDivisionError\u001b[0m\n",
      "\u001b[1m\u001b[31mE       ZeroDivisionError\u001b[0m\n",
      "\n",
      "\u001b[1m\u001b[31mtest_file.py\u001b[0m:86: ZeroDivisionError\n",
      "_______________ ERROR at teardown of test_show_finalizer[api_v2] _______________\n",
      "\n",
      "\u001b[1m    def _cleanup_something():\u001b[0m\n",
      "\u001b[1m>       raise ZeroDivisionError\u001b[0m\n",
      "\u001b[1m\u001b[31mE       ZeroDivisionError\u001b[0m\n",
      "\n",
      "\u001b[1m\u001b[31mtest_file.py\u001b[0m:86: ZeroDivisionError\n",
      "\u001b[1m============================= 12 tests deselected ==============================\u001b[0m\n",
      "\u001b[31m\u001b[1m=============== 2 passed, 12 deselected, 2 error in 0.20 seconds ===============\u001b[0m\n"
     ]
    }
   ],
   "source": [
    "!py.test -v . -k test_show_finalizer"
   ]
  },
  {
   "cell_type": "markdown",
   "metadata": {
    "slideshow": {
     "slide_type": "slide"
    }
   },
   "source": [
    "## Advanced Fixtures"
   ]
  },
  {
   "cell_type": "markdown",
   "metadata": {
    "slideshow": {
     "slide_type": "fragment"
    }
   },
   "source": [
    "- yield fixtures"
   ]
  },
  {
   "cell_type": "markdown",
   "metadata": {
    "slideshow": {
     "slide_type": "fragment"
    }
   },
   "source": [
    "- works like @contextlib.contextmanager without the decorator"
   ]
  },
  {
   "cell_type": "markdown",
   "metadata": {
    "slideshow": {
     "slide_type": "fragment"
    }
   },
   "source": [
    "- composing fixtures"
   ]
  },
  {
   "cell_type": "markdown",
   "metadata": {
    "slideshow": {
     "slide_type": "fragment"
    }
   },
   "source": [
    "- generate lots of tests"
   ]
  },
  {
   "cell_type": "code",
   "execution_count": null,
   "metadata": {
    "collapsed": true,
    "slideshow": {
     "slide_type": "subslide"
    }
   },
   "outputs": [],
   "source": [
    "@pytest.fixture(params=['North', 'East', 'West', 'South'])\n",
    "def direction(request):\n",
    "    return request.param\n",
    "\n",
    "@pytest.fixture(params=['Carolina', 'Dakota'])\n",
    "def state(request):\n",
    "    return request.param\n",
    "\n",
    "@pytest.yield_fixture\n",
    "def composed_fixture(direction, state):\n",
    "    directory = '/tmp/states/{} {}'.format(direction, state)\n",
    "    try:\n",
    "        os.mkdir(directory)\n",
    "        yield directory\n",
    "    finally:\n",
    "        os.rmdir(directory)\n",
    "\n",
    "def test_directional_state(composed_fixture):\n",
    "    assert os.path.exists(composed_fixture)\n",
    "    assert len(os.listdir('/tmp/states')) == 1"
   ]
  },
  {
   "cell_type": "code",
   "execution_count": 21,
   "metadata": {
    "collapsed": false,
    "slideshow": {
     "slide_type": "subslide"
    }
   },
   "outputs": [
    {
     "name": "stdout",
     "output_type": "stream",
     "text": [
      "\u001b[1m============================= test session starts ==============================\u001b[0m\n",
      "platform linux -- Python 3.5.2, pytest-3.0.2, py-1.4.31, pluggy-0.3.1 -- /opt/conda/bin/python\n",
      "cachedir: .cache\n",
      "rootdir: /home/jovyan/work, inifile: \n",
      "collected 22 items \n",
      "\u001b[0m\n",
      "test_file.py::test_directional_state[North-Carolina] \u001b[32mPASSED\u001b[0m\n",
      "test_file.py::test_directional_state[North-Dakota] \u001b[32mPASSED\u001b[0m\n",
      "test_file.py::test_directional_state[East-Carolina] \u001b[32mPASSED\u001b[0m\n",
      "test_file.py::test_directional_state[East-Dakota] \u001b[32mPASSED\u001b[0m\n",
      "test_file.py::test_directional_state[West-Carolina] \u001b[32mPASSED\u001b[0m\n",
      "test_file.py::test_directional_state[West-Dakota] \u001b[32mPASSED\u001b[0m\n",
      "test_file.py::test_directional_state[South-Carolina] \u001b[32mPASSED\u001b[0m\n",
      "test_file.py::test_directional_state[South-Dakota] \u001b[32mPASSED\u001b[0m\n",
      "\n",
      "\u001b[1m============================= 14 tests deselected ==============================\u001b[0m\n",
      "\u001b[32m\u001b[1m=================== 8 passed, 14 deselected in 0.13 seconds ====================\u001b[0m\n"
     ]
    }
   ],
   "source": [
    "!pytest -v . -k test_directional_state"
   ]
  },
  {
   "cell_type": "code",
   "execution_count": null,
   "metadata": {
    "collapsed": true
   },
   "outputs": [],
   "source": []
  }
 ],
 "metadata": {
  "celltoolbar": "Slideshow",
  "kernelspec": {
   "display_name": "Python 3",
   "language": "python",
   "name": "python3"
  },
  "language_info": {
   "codemirror_mode": {
    "name": "ipython",
    "version": 3
   },
   "file_extension": ".py",
   "mimetype": "text/x-python",
   "name": "python",
   "nbconvert_exporter": "python",
   "pygments_lexer": "ipython3",
   "version": "3.5.2"
  }
 },
 "nbformat": 4,
 "nbformat_minor": 0
}
